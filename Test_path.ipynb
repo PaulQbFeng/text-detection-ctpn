{
 "cells": [
  {
   "cell_type": "code",
   "execution_count": 4,
   "metadata": {},
   "outputs": [],
   "source": [
    "import os"
   ]
  },
  {
   "cell_type": "code",
   "execution_count": 5,
   "metadata": {},
   "outputs": [
    {
     "name": "stdout",
     "output_type": "stream",
     "text": [
      "LICENSE\t\t      checkpoints   lib\t\t\t   requirements.txt\r\n",
      "README.md\t      ctpn\t    logs\r\n",
      "Untitled.ipynb\t      data\t    output\r\n",
      "accident-annotations  demo_test.py  prepare_training_data\r\n"
     ]
    }
   ],
   "source": [
    "!ls\n"
   ]
  },
  {
   "cell_type": "code",
   "execution_count": null,
   "metadata": {},
   "outputs": [],
   "source": [
    "\n"
   ]
  },
  {
   "cell_type": "code",
   "execution_count": null,
   "metadata": {},
   "outputs": [],
   "source": []
  },
  {
   "cell_type": "code",
   "execution_count": 6,
   "metadata": {},
   "outputs": [],
   "source": [
    "DATA_DIR = \"./accident-annotations/\""
   ]
  },
  {
   "cell_type": "code",
   "execution_count": 15,
   "metadata": {},
   "outputs": [
    {
     "name": "stdout",
     "output_type": "stream",
     "text": [
      "['2D6938A9-A984-4A7E-ACE4-FDF2924E381D.tif2.png', '154CC8BD-5FC6-412D-9311-A520461ACAFC.tif2.png', 'EA785771-8BF8-4862-ACEA-A5BEA54EF89D.tif3.png', '13EFC5CA-F243-4B5D-87F6-AF1FABB90126.tif4.png', 'A3518E2A-0C3E-4496-9A80-65DDB2852D04.tif2.png', '0D761F36-B7EA-4A6E-BA1C-6326FA6D0FEE.tif2.png', 'F8FBE55F-2097-4AA1-8BF6-31573888CEAB.tif2.png', 'E1D5C2B7-1C51-4963-BCBE-F73AF02A6D8D.tif2.png', 'C727D949-5393-45BB-A4D8-D5A3F14B1204.tif5.png', '9B27B1F0-98DF-440A-B753-05217099896F.tif1.png', '213B8527-FD6A-4148-B9EC-CE68F411D720.tif2.png', '0C0BC6D1-6A00-4D10-A75B-9F22EA027278.tif2.png', 'BE7C559D-37B3-45B6-9904-431B7D84F876.tif2.png', '6A106728-1C2E-4589-8665-3BAA7719F324.tif2.png', '2DE7BA10-6ED6-4AB7-9670-8E0A919DBBB5.tif2.png', 'D22C5E5F-B16A-4A53-9119-BF8C25EE93D3.tif1.png', '05ED0D4A-B45A-4B81-BA2F-3FAF4FDC9FA4.tif2.png', '94808D33-70C5-474D-9C3C-001DF4717B57.tif3.png', '._0ACCCE79-B1A5-43A5-8F23-8CC78F359F6A.tif2.png', 'evaluation.ipynb', '6CDAA7D5-FE9A-46A0-BD6C-542008F04B5E.tif4.png', 'constat-extracts', '98F449C9-EDA7-429D-9B3B-AD436227360B.tif2.png', '0ACCCE79-B1A5-43A5-8F23-8CC78F359F6A.tif2.png', '0D226524-7AD9-4847-B804-075169FE8BFA.tif2.png', '2FAA064-632F-436B-9ED6-AEFFCBF85972.tif3.png', '16AD6842-A397-478B-9656-EF3A228C8D7F.tif3.png', '0C66FE21-88A1-4306-BB79-0718A50B347E.tif2.png', '224506F0-9A03-48DE-8542-1379B3607369.tif1.png', '6C84C889-062F-425E-AB57-255BD470C481.tif3.png', '._0C0BC6D1-6A00-4D10-A75B-9F22EA027278.tif2.png', '0D922977-CF08-44B3-9214-DA149657DC44.tif1.png', 'C8EC8BBA-55A6-4145-BE4D-4451301A5F2E.tif2.png', 'done', '.ipynb_checkpoints', 'AA6DBD6D-E03A-416B-B669-589810E1E9AE.tif2.png', '30E134B-F8E4-4846-9EA2-6771587E1EEC.tif3.png', 'eval_transcription.ipynb', 'E1B6916D-8F91-4BAC-8FF2-85549EC15104.tif3.png', '762C4429-D0F7-42C1-BF1D-57AF5DFA7BF5.tif2.png', '.git', '842C189E-10AC-4CB5-98B5-FBCAA0BD1CBE.tif1.png', '063C1879-317A-4406-91AB-AE8D4A4B4427.tif3.png', 'D4F09C07-7815-4C92-8A09-7A2F02EA06E9.tif2.png', 'annotations', 'F6453C63-C287-4B6C-AF2F-1168A39C3404.tif2.png', '0D7DBC36-D524-4760-BE0F-CB2093E47E7F.tif1.png', '354157EF-CA0F-4717-9D37-22252DB7ACE3.tif2.png', '4DE8DF48-9F88-4626-8EBE-5AC35D14B4E3.tif1.png', '0C32CEF9-ED09-4E69-A360-40C722398083.tif1.png', '062264CA-067E-4D3E-A518-38F82A2645BF.tif4.png', '.gitignore', '5DD84377-DD9F-48AC-9047-11AE47699BFB.tif1.png']\n"
     ]
    }
   ],
   "source": [
    "imgs = os.listdir(DATA_DIR)\n",
    "print(imgs)"
   ]
  },
  {
   "cell_type": "code",
   "execution_count": 17,
   "metadata": {},
   "outputs": [
    {
     "name": "stdout",
     "output_type": "stream",
     "text": [
      "['2D6938A9-A984-4A7E-ACE4-FDF2924E381D.tif2.png', '154CC8BD-5FC6-412D-9311-A520461ACAFC.tif2.png', 'EA785771-8BF8-4862-ACEA-A5BEA54EF89D.tif3.png', '13EFC5CA-F243-4B5D-87F6-AF1FABB90126.tif4.png', 'A3518E2A-0C3E-4496-9A80-65DDB2852D04.tif2.png', '0D761F36-B7EA-4A6E-BA1C-6326FA6D0FEE.tif2.png', 'F8FBE55F-2097-4AA1-8BF6-31573888CEAB.tif2.png', 'E1D5C2B7-1C51-4963-BCBE-F73AF02A6D8D.tif2.png', 'C727D949-5393-45BB-A4D8-D5A3F14B1204.tif5.png', '9B27B1F0-98DF-440A-B753-05217099896F.tif1.png', '213B8527-FD6A-4148-B9EC-CE68F411D720.tif2.png', '0C0BC6D1-6A00-4D10-A75B-9F22EA027278.tif2.png', 'BE7C559D-37B3-45B6-9904-431B7D84F876.tif2.png', '6A106728-1C2E-4589-8665-3BAA7719F324.tif2.png', '2DE7BA10-6ED6-4AB7-9670-8E0A919DBBB5.tif2.png', 'D22C5E5F-B16A-4A53-9119-BF8C25EE93D3.tif1.png', '05ED0D4A-B45A-4B81-BA2F-3FAF4FDC9FA4.tif2.png', '94808D33-70C5-474D-9C3C-001DF4717B57.tif3.png', '._0ACCCE79-B1A5-43A5-8F23-8CC78F359F6A.tif2.png', '6CDAA7D5-FE9A-46A0-BD6C-542008F04B5E.tif4.png', '98F449C9-EDA7-429D-9B3B-AD436227360B.tif2.png', '0ACCCE79-B1A5-43A5-8F23-8CC78F359F6A.tif2.png', '0D226524-7AD9-4847-B804-075169FE8BFA.tif2.png', '2FAA064-632F-436B-9ED6-AEFFCBF85972.tif3.png', '16AD6842-A397-478B-9656-EF3A228C8D7F.tif3.png', '0C66FE21-88A1-4306-BB79-0718A50B347E.tif2.png', '224506F0-9A03-48DE-8542-1379B3607369.tif1.png', '6C84C889-062F-425E-AB57-255BD470C481.tif3.png', '._0C0BC6D1-6A00-4D10-A75B-9F22EA027278.tif2.png', '0D922977-CF08-44B3-9214-DA149657DC44.tif1.png', 'C8EC8BBA-55A6-4145-BE4D-4451301A5F2E.tif2.png', 'AA6DBD6D-E03A-416B-B669-589810E1E9AE.tif2.png', '30E134B-F8E4-4846-9EA2-6771587E1EEC.tif3.png', 'E1B6916D-8F91-4BAC-8FF2-85549EC15104.tif3.png', '762C4429-D0F7-42C1-BF1D-57AF5DFA7BF5.tif2.png', '842C189E-10AC-4CB5-98B5-FBCAA0BD1CBE.tif1.png', '063C1879-317A-4406-91AB-AE8D4A4B4427.tif3.png', 'D4F09C07-7815-4C92-8A09-7A2F02EA06E9.tif2.png', 'F6453C63-C287-4B6C-AF2F-1168A39C3404.tif2.png', '0D7DBC36-D524-4760-BE0F-CB2093E47E7F.tif1.png', '354157EF-CA0F-4717-9D37-22252DB7ACE3.tif2.png', '4DE8DF48-9F88-4626-8EBE-5AC35D14B4E3.tif1.png', '0C32CEF9-ED09-4E69-A360-40C722398083.tif1.png', '062264CA-067E-4D3E-A518-38F82A2645BF.tif4.png', '5DD84377-DD9F-48AC-9047-11AE47699BFB.tif1.png']\n"
     ]
    }
   ],
   "source": [
    "imgs = os.listdir(DATA_DIR)\n",
    "for fichier in imgs[:]: # filelist[:] makes a copy of filelist.\n",
    "    if not(fichier.endswith(\".png\")):\n",
    "        imgs.remove(fichier)\n",
    "print(imgs)"
   ]
  },
  {
   "cell_type": "code",
   "execution_count": 14,
   "metadata": {},
   "outputs": [
    {
     "name": "stdout",
     "output_type": "stream",
     "text": [
      "['2D6938A9-A984-4A7E-ACE4-FDF2924E381D.tif2.png', '154CC8BD-5FC6-412D-9311-A520461ACAFC.tif2.png', 'EA785771-8BF8-4862-ACEA-A5BEA54EF89D.tif3.png', '13EFC5CA-F243-4B5D-87F6-AF1FABB90126.tif4.png', 'A3518E2A-0C3E-4496-9A80-65DDB2852D04.tif2.png', '0D761F36-B7EA-4A6E-BA1C-6326FA6D0FEE.tif2.png', 'F8FBE55F-2097-4AA1-8BF6-31573888CEAB.tif2.png', 'E1D5C2B7-1C51-4963-BCBE-F73AF02A6D8D.tif2.png', 'C727D949-5393-45BB-A4D8-D5A3F14B1204.tif5.png', '9B27B1F0-98DF-440A-B753-05217099896F.tif1.png', '213B8527-FD6A-4148-B9EC-CE68F411D720.tif2.png', '0C0BC6D1-6A00-4D10-A75B-9F22EA027278.tif2.png', 'BE7C559D-37B3-45B6-9904-431B7D84F876.tif2.png', '6A106728-1C2E-4589-8665-3BAA7719F324.tif2.png', '2DE7BA10-6ED6-4AB7-9670-8E0A919DBBB5.tif2.png', 'D22C5E5F-B16A-4A53-9119-BF8C25EE93D3.tif1.png', '05ED0D4A-B45A-4B81-BA2F-3FAF4FDC9FA4.tif2.png', '94808D33-70C5-474D-9C3C-001DF4717B57.tif3.png', '._0ACCCE79-B1A5-43A5-8F23-8CC78F359F6A.tif2.png', 'evaluation.ipynb', '6CDAA7D5-FE9A-46A0-BD6C-542008F04B5E.tif4.png', 'constat-extracts', '98F449C9-EDA7-429D-9B3B-AD436227360B.tif2.png', '0ACCCE79-B1A5-43A5-8F23-8CC78F359F6A.tif2.png', '0D226524-7AD9-4847-B804-075169FE8BFA.tif2.png', '2FAA064-632F-436B-9ED6-AEFFCBF85972.tif3.png', '16AD6842-A397-478B-9656-EF3A228C8D7F.tif3.png']\n"
     ]
    }
   ],
   "source": [
    "print(imgs[0:27])"
   ]
  },
  {
   "cell_type": "code",
   "execution_count": 9,
   "metadata": {},
   "outputs": [],
   "source": [
    "imgs = imgs[0:27]"
   ]
  },
  {
   "cell_type": "code",
   "execution_count": 18,
   "metadata": {},
   "outputs": [
    {
     "name": "stdout",
     "output_type": "stream",
     "text": [
      "2D6938A9-A984-4A7E-ACE4-FDF2924E381D.tif2.png\n",
      "None\n"
     ]
    }
   ],
   "source": [
    "import cv2\n",
    "\n",
    "print(imgs[0])\n",
    "im = cv2.imread(DATA_DIR + '._0C0BC6D1-6A00-4D10-A75B-9F22EA027278.tif2.png')\n",
    "\n",
    "print(im)"
   ]
  },
  {
   "cell_type": "code",
   "execution_count": null,
   "metadata": {},
   "outputs": [],
   "source": []
  }
 ],
 "metadata": {
  "kernelspec": {
   "display_name": "Python 3",
   "language": "python",
   "name": "python3"
  },
  "language_info": {
   "codemirror_mode": {
    "name": "ipython",
    "version": 3
   },
   "file_extension": ".py",
   "mimetype": "text/x-python",
   "name": "python",
   "nbconvert_exporter": "python",
   "pygments_lexer": "ipython3",
   "version": "3.6.3"
  }
 },
 "nbformat": 4,
 "nbformat_minor": 2
}
